{
 "cells": [
  {
   "cell_type": "markdown",
   "metadata": {},
   "source": [
    "# A hands-on data science crash course in Python\n",
    "\n",
    "by Bart De Vylder and Pieter Buteneers (@pieterbuteneers) from CoScale\n",
    "\n",
    "\n",
    "## [1. Notebook and Numpy introduction](notebook_intro.ipynb)\n",
    "\n",
    "## [2. Anomaly Detection ](anomaly_detection.ipynb)\n",
    "\n",
    "## [3. Data modeling](modeling.ipynb)\n",
    "\n",
    "## [4. Forecasting](forecasting.ipynb)\n",
    "\n",
    "## [5. Clustering](timeseries_clustering.ipynb)\n",
    "\n",
    "## [6. Machine learning](machine_learning.ipynb)"
   ]
  },
  {
   "cell_type": "code",
   "execution_count": null,
   "metadata": {
    "collapsed": true
   },
   "outputs": [],
   "source": []
  }
 ],
 "metadata": {
  "anaconda-cloud": {},
  "kernelspec": {
   "display_name": "Python 2",
   "language": "python",
   "name": "python2"
  },
  "language_info": {
   "codemirror_mode": {
    "name": "ipython",
    "version": 3
   },
   "file_extension": ".py",
   "mimetype": "text/x-python",
   "name": "python",
   "nbconvert_exporter": "python",
   "pygments_lexer": "ipython3",
   "version": "3.6.1"
  }
 },
 "nbformat": 4,
 "nbformat_minor": 1
}
