{
 "cells": [
  {
   "cell_type": "markdown",
   "metadata": {},
   "source": [
    "# Challenge"
   ]
  },
  {
   "cell_type": "code",
   "execution_count": null,
   "metadata": {
    "collapsed": true
   },
   "outputs": [],
   "source": [
    "import pickle_helper\n",
    "import sklearn.linear_model\n",
    "import numpy as np\n",
    "import matplotlib.pyplot as plt\n",
    "\n",
    "cpu_usage, total_page_views = pickle_helper.load('data/cpu_page_views_2.pickle')"
   ]
  },
  {
   "cell_type": "markdown",
   "metadata": {},
   "source": [
    "The data represents the request rate (req/s) and cpu usage (%) data of our webserver over the past week, one point every 15 minutes, starting at 6 a.m.\n",
    "\n",
    "Due to a marketing campaign we launch tomorrow, we expect more visitors than usual to our site between 13 and 14 pm, resulting in an expected request rate of 8.0 req/s. No changes will be done to our infrastructure. What is the expected cpu usage tomorrow between 13 and 14 pm?"
   ]
  },
  {
   "cell_type": "code",
   "execution_count": null,
   "metadata": {
    "collapsed": true
   },
   "outputs": [],
   "source": []
  },
  {
   "cell_type": "code",
   "execution_count": null,
   "metadata": {
    "collapsed": true
   },
   "outputs": [],
   "source": []
  },
  {
   "cell_type": "code",
   "execution_count": null,
   "metadata": {
    "collapsed": true
   },
   "outputs": [],
   "source": []
  },
  {
   "cell_type": "code",
   "execution_count": null,
   "metadata": {
    "collapsed": true
   },
   "outputs": [],
   "source": []
  },
  {
   "cell_type": "code",
   "execution_count": null,
   "metadata": {
    "collapsed": true
   },
   "outputs": [],
   "source": []
  },
  {
   "cell_type": "code",
   "execution_count": null,
   "metadata": {
    "collapsed": true
   },
   "outputs": [],
   "source": []
  },
  {
   "cell_type": "code",
   "execution_count": null,
   "metadata": {
    "collapsed": true
   },
   "outputs": [],
   "source": []
  },
  {
   "cell_type": "code",
   "execution_count": null,
   "metadata": {
    "collapsed": true
   },
   "outputs": [],
   "source": []
  },
  {
   "cell_type": "code",
   "execution_count": null,
   "metadata": {
    "collapsed": true
   },
   "outputs": [],
   "source": []
  },
  {
   "cell_type": "code",
   "execution_count": null,
   "metadata": {
    "collapsed": true
   },
   "outputs": [],
   "source": []
  },
  {
   "cell_type": "markdown",
   "metadata": {},
   "source": [
    "# Solution"
   ]
  },
  {
   "cell_type": "markdown",
   "metadata": {},
   "source": [
    "## First attempt"
   ]
  },
  {
   "cell_type": "code",
   "execution_count": null,
   "metadata": {},
   "outputs": [],
   "source": [
    "simple_lin_model = sklearn.linear_model.LinearRegression()\n",
    "simple_lin_model.fit(total_page_views, cpu_usage)\n",
    "\n",
    "target_page_views = 8.0\n",
    "\n",
    "prediction = simple_lin_model.predict([[target_page_views]])[0]\n",
    "\n",
    "print('The predicted value is:', prediction)\n",
    "\n",
    "assert prediction < 25"
   ]
  },
  {
   "cell_type": "markdown",
   "metadata": {},
   "source": [
    "Let's take a closer look at the data:"
   ]
  },
  {
   "cell_type": "code",
   "execution_count": null,
   "metadata": {},
   "outputs": [],
   "source": [
    "all_page_views = np.concatenate((total_page_views, [[target_page_views]]))\n",
    "\n",
    "plt.figure(figsize=(13,8))\n",
    "\n",
    "plt.scatter(total_page_views, cpu_usage,  color='black')\n",
    "plt.plot(all_page_views, simple_lin_model.predict(all_page_views), color='blue', linewidth=3)\n",
    "plt.axvline(8, color='r')\n",
    "\n",
    "plt.xlabel(\"Total page views\")\n",
    "plt.ylabel(\"CPU usage\")\n",
    "\n",
    "plt.show()"
   ]
  },
  {
   "cell_type": "markdown",
   "metadata": {},
   "source": [
    "The line does not fit really well due to a concentration of point in the upper left. Our CPU estimate will be on the low side. Let's take a look at the original data: "
   ]
  },
  {
   "cell_type": "code",
   "execution_count": null,
   "metadata": {},
   "outputs": [],
   "source": [
    "plt.plot(cpu_usage, label=\"cpu\")\n",
    "plt.plot(total_page_views, label=\"page_views\")\n",
    "plt.legend()\n",
    "plt.show()"
   ]
  },
  {
   "cell_type": "markdown",
   "metadata": {},
   "source": [
    "It seems during the night we have high CPU spikes unrelated to the requests (could be caused by a daily backup): it's better to leave them out. "
   ]
  },
  {
   "cell_type": "markdown",
   "metadata": {},
   "source": [
    "## 2nd attempt"
   ]
  },
  {
   "cell_type": "code",
   "execution_count": null,
   "metadata": {},
   "outputs": [],
   "source": [
    "selection = cpu_usage < 25\n",
    "\n",
    "simple_lin_model = sklearn.linear_model.LinearRegression()\n",
    "simple_lin_model.fit(total_page_views[selection], cpu_usage[selection])\n",
    "prediction = simple_lin_model.predict([[target_page_views]])[0]\n",
    "\n",
    "print('The predicted value is:', prediction)\n",
    "\n",
    "all_page_views = np.concatenate((total_page_views, [[target_page_views]]))\n",
    "\n",
    "plt.figure(figsize=(13,8))\n",
    "\n",
    "plt.scatter(total_page_views, cpu_usage,  color='black')\n",
    "plt.plot(all_page_views, simple_lin_model.predict(all_page_views), color='blue', linewidth=3)\n",
    "plt.axvline(target_page_views, color='r')\n",
    "\n",
    "plt.xlabel(\"Total page views\")\n",
    "plt.ylabel(\"CPU usage\")\n",
    "\n",
    "plt.show()\n",
    "\n",
    "assert prediction > 23"
   ]
  },
  {
   "cell_type": "markdown",
   "metadata": {
    "collapsed": true
   },
   "source": [
    "So the better prediction is 28.3 because it is not disturbed by the unrelated cpu spikes during the night. \n",
    "\n",
    "\n",
    "### Bottomline\n",
    "Whatever modeling/machine learning techniques you use, don't use them blindly but try to understand the data, e.g. by visualizing it."
   ]
  },
  {
   "cell_type": "code",
   "execution_count": null,
   "metadata": {
    "collapsed": true
   },
   "outputs": [],
   "source": []
  }
 ],
 "metadata": {
  "kernelspec": {
   "display_name": "Python 2",
   "language": "python",
   "name": "python2"
  },
  "language_info": {
   "codemirror_mode": {
    "name": "ipython",
    "version": 3
   },
   "file_extension": ".py",
   "mimetype": "text/x-python",
   "name": "python",
   "nbconvert_exporter": "python",
   "pygments_lexer": "ipython3",
   "version": "3.6.1"
  }
 },
 "nbformat": 4,
 "nbformat_minor": 2
}
